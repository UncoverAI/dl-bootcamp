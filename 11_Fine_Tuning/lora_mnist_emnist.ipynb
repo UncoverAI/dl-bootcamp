{
 "cells": [
  {
   "cell_type": "markdown",
   "metadata": {},
   "source": [
    "# LoRA implementation for finetuning a model trained on MNIST (just digits) for EMNIST (letters)\n",
    "inspired by: https://github.com/hkproj/pytorch-lora, https://www.youtube.com/watch?v=PXWYUTMt-AU\n",
    "\n",
    "paper referred to: https://arxiv.org/abs/2106.09685"
   ]
  },
  {
   "cell_type": "code",
   "execution_count": 1,
   "metadata": {},
   "outputs": [],
   "source": [
    "import torch\n",
    "import torchvision.datasets as datasets \n",
    "import torchvision.transforms as transforms\n",
    "import torch.nn as nn"
   ]
  },
  {
   "cell_type": "markdown",
   "metadata": {},
   "source": [
    "### Load MNIST and EMNIST data"
   ]
  },
  {
   "cell_type": "code",
   "execution_count": 2,
   "metadata": {},
   "outputs": [],
   "source": [
    "transform = transforms.Compose([transforms.ToTensor(), transforms.Normalize((0.1307,), (0.3081,))])\n",
    "\n",
    "# MNIST datasets\n",
    "mnist_full_train = datasets.MNIST(root='./data', train=True, download=True, transform=transform)\n",
    "train_size = int(0.8 * len(mnist_full_train))\n",
    "val_size = len(mnist_full_train) - train_size\n",
    "mnist_trainset, mnist_valset = torch.utils.data.random_split(mnist_full_train, [train_size, val_size])\n",
    "\n",
    "mnist_train_loader = torch.utils.data.DataLoader(mnist_trainset, batch_size=64, shuffle=True)\n",
    "mnist_val_loader = torch.utils.data.DataLoader(mnist_valset, batch_size=64, shuffle=False)\n",
    "mnist_testset = datasets.MNIST(root='./data', train=False, download=True, transform=transform)\n",
    "mnist_test_loader = torch.utils.data.DataLoader(mnist_testset, batch_size=64, shuffle=True)\n",
    "\n",
    "# EMNIST datasets\n",
    "emnist_full_train = datasets.EMNIST(root='./data', split='letters', train=True, download=True, transform=transform)\n",
    "train_size = int(0.8 * len(emnist_full_train))\n",
    "val_size = len(emnist_full_train) - train_size\n",
    "emnist_trainset, emnist_valset = torch.utils.data.random_split(emnist_full_train, [train_size, val_size])\n",
    "\n",
    "emnist_train_loader = torch.utils.data.DataLoader(emnist_trainset, batch_size=64, shuffle=True)\n",
    "emnist_val_loader = torch.utils.data.DataLoader(emnist_valset, batch_size=64, shuffle=False)\n",
    "emnist_testset = datasets.EMNIST(root='./data', split='letters', train=False, download=True, transform=transform)\n",
    "emnist_test_loader = torch.utils.data.DataLoader(emnist_testset, batch_size=64, shuffle=True)\n",
    "\n",
    "# Define the device\n",
    "device = torch.device(\"cuda:0\" if torch.cuda.is_available() else \"cpu\")"
   ]
  },
  {
   "cell_type": "markdown",
   "metadata": {},
   "source": [
    "### Some information about and examples from the datasets"
   ]
  },
  {
   "cell_type": "code",
   "execution_count": 3,
   "metadata": {},
   "outputs": [
    {
     "name": "stdout",
     "output_type": "stream",
     "text": [
      "MNIST Dataset:\n",
      "Training set size: 48000\n",
      "Validation set size: 12000\n",
      "Test set size: 10000\n",
      "\n",
      "EMNIST Dataset:\n",
      "Training set size: 99840\n",
      "Validation set size: 24960\n",
      "Test set size: 20800\n"
     ]
    },
    {
     "data": {
      "image/png": "[encoded data removed]",
      "text/plain": [
       "<Figure size 1000x200 with 5 Axes>"
      ]
     },
     "metadata": {},
     "output_type": "display_data"
    },
    {
     "data": {
      "image/png": "[encoded data removed]",
      "text/plain": [
       "<Figure size 1000x200 with 5 Axes>"
      ]
     },
     "metadata": {},
     "output_type": "display_data"
    },
    {
     "name": "stdout",
     "output_type": "stream",
     "text": [
      "\n",
      "Number of classes:\n",
      "MNIST: 10\n",
      "EMNIST: 26\n"
     ]
    }
   ],
   "source": [
    "# Print dataset sizes\n",
    "print(\"MNIST Dataset:\")\n",
    "print(f\"Training set size: {len(mnist_trainset)}\")\n",
    "print(f\"Validation set size: {len(mnist_valset)}\")\n",
    "print(f\"Test set size: {len(mnist_testset)}\")\n",
    "print(\"\\nEMNIST Dataset:\")\n",
    "print(f\"Training set size: {len(emnist_trainset)}\")\n",
    "print(f\"Validation set size: {len(emnist_valset)}\")\n",
    "print(f\"Test set size: {len(emnist_testset)}\")\n",
    "\n",
    "# Visualize some examples\n",
    "import matplotlib.pyplot as plt\n",
    "\n",
    "# Function to show images\n",
    "def show_examples(dataset, title, num_examples=5, mnist=True):\n",
    "    fig, axes = plt.subplots(1, num_examples, figsize=(2*num_examples, 2))\n",
    "    fig.suptitle(title)\n",
    "    \n",
    "    for i in range(num_examples):\n",
    "        img, label = dataset[i]\n",
    "        if not mnist:\n",
    "            label = chr(ord('A') + label - 1)  # Convert number to corresponding letter\n",
    "        axes[i].imshow(img.squeeze(), cmap='gray')\n",
    "        axes[i].axis('off')\n",
    "        axes[i].set_title(f'Label: {label}')\n",
    "    plt.tight_layout()\n",
    "    plt.show()\n",
    "\n",
    "# Show examples from both datasets\n",
    "show_examples(mnist_full_train, \"MNIST Examples\")\n",
    "show_examples(emnist_full_train, \"EMNIST Examples\", mnist=False)\n",
    "\n",
    "# Print number of classes\n",
    "print(\"\\nNumber of classes:\")\n",
    "print(f\"MNIST: {len(set(mnist_full_train.targets.numpy()))}\")\n",
    "print(f\"EMNIST: {len(set(emnist_full_train.targets.numpy()))}\")\n"
   ]
  },
  {
   "cell_type": "markdown",
   "metadata": {},
   "source": [
    "### Create simple Feedforward Neural Network"
   ]
  },
  {
   "cell_type": "code",
   "execution_count": 4,
   "metadata": {},
   "outputs": [
    {
     "data": {
      "text/plain": [
       "SimpleNN(\n",
       "  (l1): Linear(in_features=784, out_features=2000, bias=True)\n",
       "  (l2): Linear(in_features=2000, out_features=1500, bias=True)\n",
       "  (l3): Linear(in_features=1500, out_features=1000, bias=True)\n",
       "  (l4): Linear(in_features=1000, out_features=500, bias=True)\n",
       "  (l5): Linear(in_features=500, out_features=250, bias=True)\n",
       "  (l6): Linear(in_features=250, out_features=10, bias=True)\n",
       "  (dropout): Dropout(p=0.2, inplace=False)\n",
       ")"
      ]
     },
     "execution_count": 4,
     "metadata": {},
     "output_type": "execute_result"
    }
   ],
   "source": [
    "import torch.nn.functional as F\n",
    "import pytorch_lightning as L\n",
    "\n",
    "class SimpleNN(L.LightningModule):\n",
    "    def __init__(self):\n",
    "        super(SimpleNN, self).__init__()\n",
    "        self.l1 = nn.Linear(28*28, 2000)\n",
    "        self.l2 = nn.Linear(2000, 1500)\n",
    "        self.l3 = nn.Linear(1500, 1000)\n",
    "        self.l4 = nn.Linear(1000, 500)\n",
    "        self.l5 = nn.Linear(500, 250)\n",
    "        self.l6 = nn.Linear(250, 10)\n",
    "        self.dropout = nn.Dropout(0.2)\n",
    "\n",
    "    def forward(self, x):\n",
    "        x = x.view(-1, 28*28)\n",
    "        x = F.relu(self.l1(x))\n",
    "        x = self.dropout(x)\n",
    "        x = F.relu(self.l2(x))\n",
    "        x = self.dropout(x)\n",
    "        x = F.relu(self.l3(x))\n",
    "        x = self.dropout(x)\n",
    "        x = F.relu(self.l4(x))\n",
    "        x = self.dropout(x)\n",
    "        x = F.relu(self.l5(x))\n",
    "        x = self.dropout(x)\n",
    "        x = self.l6(x)\n",
    "        return x\n",
    "\n",
    "    def training_step(self, batch, batch_idx):\n",
    "        x, y = batch\n",
    "        logits = self(x)\n",
    "        loss = F.cross_entropy(logits, y)\n",
    "        return loss\n",
    "\n",
    "    def validation_step(self, batch, batch_idx):\n",
    "        x, y = batch\n",
    "        logits = self(x)\n",
    "        loss = F.cross_entropy(logits, y)\n",
    "        acc = (logits.argmax(dim=1) == y).float().mean()\n",
    "        self.log('val_loss', loss)\n",
    "        self.log('val_acc', acc)\n",
    "        return loss\n",
    "\n",
    "    def configure_optimizers(self):\n",
    "        return torch.optim.Adam(self.parameters(), lr=0.001)\n",
    "\n",
    "base_model = SimpleNN()\n",
    "base_model"
   ]
  },
  {
   "cell_type": "markdown",
   "metadata": {},
   "source": [
    "### Train the model"
   ]
  },
  {
   "cell_type": "code",
   "execution_count": 5,
   "metadata": {},
   "outputs": [
    {
     "name": "stderr",
     "output_type": "stream",
     "text": [
      "GPU available: True (mps), used: True\n",
      "TPU available: False, using: 0 TPU cores\n",
      "HPU available: False, using: 0 HPUs\n",
      "/Users/i551965/Documents/dev/SAP/DeepLearning/.venv/lib/python3.12/site-packages/pytorch_lightning/trainer/connectors/logger_connector/logger_connector.py:75: Starting from v1.9.0, `tensorboardX` has been removed as a dependency of the `pytorch_lightning` package, due to potential conflicts with other packages in the ML ecosystem. For this reason, `logger=True` will use `CSVLogger` as the default logger, unless the `tensorboard` or `tensorboardX` packages are found. Please `pip install lightning[extra]` or one of them to enable TensorBoard support by default\n",
      "\n",
      "  | Name    | Type    | Params | Mode \n",
      "--------------------------------------------\n",
      "0 | l1      | Linear  | 1.6 M  | train\n",
      "1 | l2      | Linear  | 3.0 M  | train\n",
      "2 | l3      | Linear  | 1.5 M  | train\n",
      "3 | l4      | Linear  | 500 K  | train\n",
      "4 | l5      | Linear  | 125 K  | train\n",
      "5 | l6      | Linear  | 2.5 K  | train\n",
      "6 | dropout | Dropout | 0      | train\n",
      "--------------------------------------------\n",
      "6.7 M     Trainable params\n",
      "0         Non-trainable params\n",
      "6.7 M     Total params\n",
      "26.803    Total estimated model params size (MB)\n",
      "7         Modules in train mode\n",
      "0         Modules in eval mode\n"
     ]
    },
    {
     "name": "stdout",
     "output_type": "stream",
     "text": [
      "Sanity Checking DataLoader 0:   0%|          | 0/2 [00:00<?, ?it/s]"
     ]
    },
    {
     "name": "stderr",
     "output_type": "stream",
     "text": [
      "/Users/i551965/Documents/dev/SAP/DeepLearning/.venv/lib/python3.12/site-packages/pytorch_lightning/trainer/connectors/data_connector.py:424: The 'val_dataloader' does not have many workers which may be a bottleneck. Consider increasing the value of the `num_workers` argument` to `num_workers=9` in the `DataLoader` to improve performance.\n"
     ]
    },
    {
     "name": "stdout",
     "output_type": "stream",
     "text": [
      "                                                                           "
     ]
    },
    {
     "name": "stderr",
     "output_type": "stream",
     "text": [
      "/Users/i551965/Documents/dev/SAP/DeepLearning/.venv/lib/python3.12/site-packages/pytorch_lightning/trainer/connectors/data_connector.py:424: The 'train_dataloader' does not have many workers which may be a bottleneck. Consider increasing the value of the `num_workers` argument` to `num_workers=9` in the `DataLoader` to improve performance.\n"
     ]
    },
    {
     "name": "stdout",
     "output_type": "stream",
     "text": [
      "Epoch 2: 100%|██████████| 750/750 [00:08<00:00, 90.10it/s, v_num=66] "
     ]
    },
    {
     "name": "stderr",
     "output_type": "stream",
     "text": [
      "`Trainer.fit` stopped: `max_epochs=3` reached.\n"
     ]
    },
    {
     "name": "stdout",
     "output_type": "stream",
     "text": [
      "Epoch 2: 100%|██████████| 750/750 [00:08<00:00, 89.37it/s, v_num=66]\n"
     ]
    }
   ],
   "source": [
    "trainer = L.Trainer(max_epochs=3)\n",
    "trainer.fit(base_model, mnist_train_loader, mnist_val_loader)"
   ]
  },
  {
   "cell_type": "markdown",
   "metadata": {},
   "source": [
    "### Evaluate the model"
   ]
  },
  {
   "cell_type": "code",
   "execution_count": 6,
   "metadata": {},
   "outputs": [
    {
     "name": "stdout",
     "output_type": "stream",
     "text": [
      "MNIST\n"
     ]
    },
    {
     "name": "stderr",
     "output_type": "stream",
     "text": [
      "/Users/i551965/Documents/dev/SAP/DeepLearning/.venv/lib/python3.12/site-packages/pytorch_lightning/trainer/connectors/data_connector.py:475: Your `val_dataloader`'s sampler has shuffling enabled, it is strongly recommended that you turn shuffling off for val/test dataloaders.\n"
     ]
    },
    {
     "name": "stdout",
     "output_type": "stream",
     "text": [
      "Validation DataLoader 0: 100%|██████████| 157/157 [00:01<00:00, 156.98it/s]\n",
      "────────────────────────────────────────────────────────────────────────────────────────────────────────────────────────\n",
      "     Validate metric           DataLoader 0\n",
      "────────────────────────────────────────────────────────────────────────────────────────────────────────────────────────\n",
      "         val_acc             0.97079998254776\n",
      "        val_loss            0.10735946148633957\n",
      "────────────────────────────────────────────────────────────────────────────────────────────────────────────────────────\n",
      "EMNIST\n",
      "Validation DataLoader 0: 100%|██████████| 325/325 [00:01<00:00, 202.30it/s]\n",
      "────────────────────────────────────────────────────────────────────────────────────────────────────────────────────────\n",
      "     Validate metric           DataLoader 0\n",
      "────────────────────────────────────────────────────────────────────────────────────────────────────────────────────────\n",
      "         val_acc           0.014759615063667297\n",
      "        val_loss            3.2453672885894775\n",
      "────────────────────────────────────────────────────────────────────────────────────────────────────────────────────────\n"
     ]
    },
    {
     "data": {
      "text/plain": [
       "[{'val_loss': 3.2453672885894775, 'val_acc': 0.014759615063667297}]"
      ]
     },
     "execution_count": 6,
     "metadata": {},
     "output_type": "execute_result"
    }
   ],
   "source": [
    "print(\"MNIST\")\n",
    "trainer.validate(model=base_model, dataloaders=mnist_test_loader)\n",
    "print(\"EMNIST\")\n",
    "trainer.validate(model=base_model, dataloaders=emnist_test_loader)"
   ]
  },
  {
   "cell_type": "markdown",
   "metadata": {},
   "source": [
    "### Create LoRA model"
   ]
  },
  {
   "cell_type": "code",
   "execution_count": 7,
   "metadata": {},
   "outputs": [],
   "source": [
    "class LoRAParametrization(L.LightningModule):\n",
    "    def __init__(self, features_in, features_out, rank=1, alpha=1, device=device):\n",
    "        super().__init__()\n",
    "        # Section 4.1 of the paper: \n",
    "        #   We use a random Gaussian initialization for A and zero for B, so ∆W = BA is zero at the beginning of training\n",
    "        self.lora_A = nn.Parameter(torch.zeros((rank,features_out)).to(device))\n",
    "        self.lora_B = nn.Parameter(torch.zeros((features_in, rank)).to(device))\n",
    "        nn.init.normal_(self.lora_A, mean=0, std=1)\n",
    "        \n",
    "        # Section 4.1 of the paper: \n",
    "        #   We then scale ∆Wx by α/r , where α is a constant in r. \n",
    "        #   When optimizing with Adam, tuning α is roughly the same as tuning the learning rate if we scale the initialization appropriately. \n",
    "        #   As a result, we simply set α to the first r we try and do not tune it. \n",
    "        #   This scaling helps to reduce the need to retune hyperparameters when we vary r.\n",
    "        self.scale = alpha / rank\n",
    "\n",
    "    def forward(self, original_weights):\n",
    "        # Return W + (B*A)*scale\n",
    "        return original_weights + (self.lora_B @ self.lora_A) * self.scale"
   ]
  },
  {
   "cell_type": "markdown",
   "metadata": {},
   "source": [
    "### Add parametrization to the model"
   ]
  },
  {
   "cell_type": "code",
   "execution_count": 8,
   "metadata": {},
   "outputs": [
    {
     "data": {
      "text/plain": [
       "SimpleNN(\n",
       "  (l1): ParametrizedLinear(\n",
       "    in_features=784, out_features=2000, bias=True\n",
       "    (parametrizations): ModuleDict(\n",
       "      (weight): ParametrizationList(\n",
       "        (0): LoRAParametrization()\n",
       "      )\n",
       "    )\n",
       "  )\n",
       "  (l2): ParametrizedLinear(\n",
       "    in_features=2000, out_features=1500, bias=True\n",
       "    (parametrizations): ModuleDict(\n",
       "      (weight): ParametrizationList(\n",
       "        (0): LoRAParametrization()\n",
       "      )\n",
       "    )\n",
       "  )\n",
       "  (l3): ParametrizedLinear(\n",
       "    in_features=1500, out_features=1000, bias=True\n",
       "    (parametrizations): ModuleDict(\n",
       "      (weight): ParametrizationList(\n",
       "        (0): LoRAParametrization()\n",
       "      )\n",
       "    )\n",
       "  )\n",
       "  (l4): ParametrizedLinear(\n",
       "    in_features=1000, out_features=500, bias=True\n",
       "    (parametrizations): ModuleDict(\n",
       "      (weight): ParametrizationList(\n",
       "        (0): LoRAParametrization()\n",
       "      )\n",
       "    )\n",
       "  )\n",
       "  (l5): ParametrizedLinear(\n",
       "    in_features=500, out_features=250, bias=True\n",
       "    (parametrizations): ModuleDict(\n",
       "      (weight): ParametrizationList(\n",
       "        (0): LoRAParametrization()\n",
       "      )\n",
       "    )\n",
       "  )\n",
       "  (l6): ParametrizedLinear(\n",
       "    in_features=250, out_features=10, bias=True\n",
       "    (parametrizations): ModuleDict(\n",
       "      (weight): ParametrizationList(\n",
       "        (0): LoRAParametrization()\n",
       "      )\n",
       "    )\n",
       "  )\n",
       "  (dropout): Dropout(p=0.2, inplace=False)\n",
       ")"
      ]
     },
     "execution_count": 8,
     "metadata": {},
     "output_type": "execute_result"
    }
   ],
   "source": [
    "import torch.nn.utils.parametrize as parametrize\n",
    "import copy\n",
    "\n",
    "def linear_layer_parameterization(layer, device, rank=1, lora_alpha=1):\n",
    "    # Only add the parameterization to the weight matrix, ignore the Bias\n",
    "\n",
    "    # From section 4.2 of the paper:\n",
    "    #   We limit our study to only adapting the attention weights for downstream tasks \n",
    "    #   and freeze the MLP modules (so they are not trained in downstream tasks) both \n",
    "    #   for simplicity and parameter-efficiency.\n",
    "    #   [...]\n",
    "    #   We leave the empirical investigation of [...], and biases to a future work.\n",
    "    \n",
    "    features_in, features_out = layer.weight.shape\n",
    "    return LoRAParametrization(\n",
    "        features_in, features_out, rank=rank, alpha=lora_alpha, device=device\n",
    "    )\n",
    "\n",
    "# Creating a copy of the base model to finetune without LoRA\n",
    "lora_finetune_model = copy.deepcopy(base_model)\n",
    "\n",
    "parametrize.register_parametrization(\n",
    "    lora_finetune_model.l1, \"weight\", linear_layer_parameterization(lora_finetune_model.l1, device)\n",
    ")\n",
    "parametrize.register_parametrization(\n",
    "    lora_finetune_model.l2, \"weight\", linear_layer_parameterization(lora_finetune_model.l2, device)\n",
    ")\n",
    "parametrize.register_parametrization(\n",
    "    lora_finetune_model.l3, \"weight\", linear_layer_parameterization(lora_finetune_model.l3, device)\n",
    ")\n",
    "parametrize.register_parametrization(\n",
    "    lora_finetune_model.l4, \"weight\", linear_layer_parameterization(lora_finetune_model.l4, device)\n",
    ")\n",
    "parametrize.register_parametrization(\n",
    "    lora_finetune_model.l5, \"weight\", linear_layer_parameterization(lora_finetune_model.l5, device)\n",
    ")\n",
    "parametrize.register_parametrization(\n",
    "    lora_finetune_model.l6, \"weight\", linear_layer_parameterization(lora_finetune_model.l6, device)\n",
    ")\n",
    "\n",
    "lora_finetune_model"
   ]
  },
  {
   "cell_type": "markdown",
   "metadata": {},
   "source": [
    "### Freeze all non-LoRA parameters"
   ]
  },
  {
   "cell_type": "code",
   "execution_count": 9,
   "metadata": {},
   "outputs": [
    {
     "name": "stdout",
     "output_type": "stream",
     "text": [
      "Freezing non-LoRA parameter l1.bias\n",
      "Freezing non-LoRA parameter l1.parametrizations.weight.original\n",
      "Freezing non-LoRA parameter l2.bias\n",
      "Freezing non-LoRA parameter l2.parametrizations.weight.original\n",
      "Freezing non-LoRA parameter l3.bias\n",
      "Freezing non-LoRA parameter l3.parametrizations.weight.original\n",
      "Freezing non-LoRA parameter l4.bias\n",
      "Freezing non-LoRA parameter l4.parametrizations.weight.original\n",
      "Freezing non-LoRA parameter l5.bias\n",
      "Freezing non-LoRA parameter l5.parametrizations.weight.original\n",
      "Freezing non-LoRA parameter l6.bias\n",
      "Freezing non-LoRA parameter l6.parametrizations.weight.original\n"
     ]
    }
   ],
   "source": [
    "# Freeze the non-Lora parameters\n",
    "for name, param in lora_finetune_model.named_parameters():\n",
    "    if 'lora' not in name:\n",
    "        print(f'Freezing non-LoRA parameter {name}')\n",
    "        param.requires_grad = False"
   ]
  },
  {
   "cell_type": "markdown",
   "metadata": {},
   "source": [
    "### Verify that parameters are actually frozen"
   ]
  },
  {
   "cell_type": "code",
   "execution_count": 10,
   "metadata": {},
   "outputs": [
    {
     "name": "stdout",
     "output_type": "stream",
     "text": [
      "Trainable parameters: 11294\n",
      "Total parameters: 6712054\n",
      "Percentage of trainable parameters: 0.17%\n"
     ]
    }
   ],
   "source": [
    "trainable_params = sum(p.numel() for p in lora_finetune_model.parameters() if p.requires_grad)\n",
    "total_params = sum(p.numel() for p in lora_finetune_model.parameters())\n",
    "print(f\"Trainable parameters: {trainable_params}\")\n",
    "print(f\"Total parameters: {total_params}\")\n",
    "print(f\"Percentage of trainable parameters: {trainable_params/total_params*100:.2f}%\")"
   ]
  },
  {
   "cell_type": "markdown",
   "metadata": {},
   "source": [
    "### Fine-tune the model on EMNIST using LoRA"
   ]
  },
  {
   "cell_type": "code",
   "execution_count": 11,
   "metadata": {},
   "outputs": [
    {
     "name": "stderr",
     "output_type": "stream",
     "text": [
      "GPU available: True (mps), used: True\n",
      "TPU available: False, using: 0 TPU cores\n",
      "HPU available: False, using: 0 HPUs\n",
      "\n",
      "  | Name    | Type               | Params | Mode \n",
      "-------------------------------------------------------\n",
      "0 | l1      | ParametrizedLinear | 1.6 M  | train\n",
      "1 | l2      | ParametrizedLinear | 3.0 M  | train\n",
      "2 | l3      | ParametrizedLinear | 1.5 M  | train\n",
      "3 | l4      | ParametrizedLinear | 502 K  | train\n",
      "4 | l5      | ParametrizedLinear | 126 K  | train\n",
      "5 | l6      | ParametrizedLinear | 2.8 K  | train\n",
      "6 | dropout | Dropout            | 0      | train\n",
      "-------------------------------------------------------\n",
      "11.3 K    Trainable params\n",
      "6.7 M     Non-trainable params\n",
      "6.7 M     Total params\n",
      "26.848    Total estimated model params size (MB)\n",
      "25        Modules in train mode\n",
      "0         Modules in eval mode\n"
     ]
    },
    {
     "name": "stdout",
     "output_type": "stream",
     "text": [
      "Epoch 2: 100%|██████████| 1560/1560 [00:17<00:00, 87.03it/s, v_num=67]     "
     ]
    },
    {
     "name": "stderr",
     "output_type": "stream",
     "text": [
      "`Trainer.fit` stopped: `max_epochs=3` reached.\n"
     ]
    },
    {
     "name": "stdout",
     "output_type": "stream",
     "text": [
      "Epoch 2: 100%|██████████| 1560/1560 [00:17<00:00, 86.86it/s, v_num=67]\n",
      "Training time with LoRA: 55.00 seconds\n"
     ]
    }
   ],
   "source": [
    "import pendulum\n",
    "\n",
    "trainer = L.Trainer(max_epochs=3)\n",
    "# Measure training time\n",
    "start_time = pendulum.now()\n",
    "trainer.fit(lora_finetune_model, emnist_train_loader, emnist_val_loader)\n",
    "training_time_lora = pendulum.now().diff(start_time).in_seconds()\n",
    "print(f\"Training time with LoRA: {training_time_lora:.2f} seconds\")"
   ]
  },
  {
   "cell_type": "markdown",
   "metadata": {},
   "source": [
    "### Evaluate the fine-tuned model"
   ]
  },
  {
   "cell_type": "code",
   "execution_count": 12,
   "metadata": {},
   "outputs": [
    {
     "name": "stdout",
     "output_type": "stream",
     "text": [
      "MNIST\n",
      "Validation DataLoader 0: 100%|██████████| 157/157 [00:00<00:00, 173.84it/s]\n",
      "────────────────────────────────────────────────────────────────────────────────────────────────────────────────────────\n",
      "     Validate metric           DataLoader 0\n",
      "────────────────────────────────────────────────────────────────────────────────────────────────────────────────────────\n",
      "         val_acc            0.13099999725818634\n",
      "        val_loss            3.4808096885681152\n",
      "────────────────────────────────────────────────────────────────────────────────────────────────────────────────────────\n",
      "EMNIST\n",
      "Validation DataLoader 0: 100%|██████████| 325/325 [00:01<00:00, 187.75it/s]\n",
      "────────────────────────────────────────────────────────────────────────────────────────────────────────────────────────\n",
      "     Validate metric           DataLoader 0\n",
      "────────────────────────────────────────────────────────────────────────────────────────────────────────────────────────\n",
      "         val_acc            0.25370192527770996\n",
      "        val_loss            0.29321321845054626\n",
      "────────────────────────────────────────────────────────────────────────────────────────────────────────────────────────\n"
     ]
    }
   ],
   "source": [
    "print(\"MNIST\")\n",
    "accuracy_lora_mnist = trainer.validate(model=lora_finetune_model, dataloaders=mnist_test_loader)\n",
    "print(\"EMNIST\")\n",
    "accuracy_lora_emnist = trainer.validate(model=lora_finetune_model, dataloaders=emnist_test_loader)"
   ]
  },
  {
   "cell_type": "markdown",
   "metadata": {},
   "source": [
    "### Finetune without LoRA to compare accuracy and runtime"
   ]
  },
  {
   "cell_type": "code",
   "execution_count": 13,
   "metadata": {},
   "outputs": [
    {
     "name": "stderr",
     "output_type": "stream",
     "text": [
      "GPU available: True (mps), used: True\n",
      "TPU available: False, using: 0 TPU cores\n",
      "HPU available: False, using: 0 HPUs\n",
      "\n",
      "  | Name    | Type    | Params | Mode \n",
      "--------------------------------------------\n",
      "0 | l1      | Linear  | 1.6 M  | train\n",
      "1 | l2      | Linear  | 3.0 M  | train\n",
      "2 | l3      | Linear  | 1.5 M  | train\n",
      "3 | l4      | Linear  | 500 K  | train\n",
      "4 | l5      | Linear  | 125 K  | train\n",
      "5 | l6      | Linear  | 2.5 K  | train\n",
      "6 | dropout | Dropout | 0      | train\n",
      "--------------------------------------------\n",
      "6.7 M     Trainable params\n",
      "0         Non-trainable params\n",
      "6.7 M     Total params\n",
      "26.803    Total estimated model params size (MB)\n",
      "7         Modules in train mode\n",
      "0         Modules in eval mode\n"
     ]
    },
    {
     "name": "stdout",
     "output_type": "stream",
     "text": [
      "Epoch 2: 100%|██████████| 1560/1560 [00:18<00:00, 84.54it/s, v_num=68]      "
     ]
    },
    {
     "name": "stderr",
     "output_type": "stream",
     "text": [
      "`Trainer.fit` stopped: `max_epochs=3` reached.\n"
     ]
    },
    {
     "name": "stdout",
     "output_type": "stream",
     "text": [
      "Epoch 2: 100%|██████████| 1560/1560 [00:18<00:00, 84.22it/s, v_num=68]\n",
      "Training time without LoRA: 53.00 seconds\n",
      "MNIST\n",
      "Validation DataLoader 0: 100%|██████████| 157/157 [00:00<00:00, 207.33it/s]\n",
      "────────────────────────────────────────────────────────────────────────────────────────────────────────────────────────\n",
      "     Validate metric           DataLoader 0\n",
      "────────────────────────────────────────────────────────────────────────────────────────────────────────────────────────\n",
      "         val_acc            0.0828000009059906\n",
      "        val_loss             6.055171966552734\n",
      "────────────────────────────────────────────────────────────────────────────────────────────────────────────────────────\n",
      "EMNIST\n",
      "Validation DataLoader 0: 100%|██████████| 325/325 [00:01<00:00, 200.87it/s]\n",
      "────────────────────────────────────────────────────────────────────────────────────────────────────────────────────────\n",
      "     Validate metric           DataLoader 0\n",
      "────────────────────────────────────────────────────────────────────────────────────────────────────────────────────────\n",
      "         val_acc            0.32442307472229004\n",
      "        val_loss            0.07956093549728394\n",
      "────────────────────────────────────────────────────────────────────────────────────────────────────────────────────────\n"
     ]
    }
   ],
   "source": [
    "# Finetune the base model without LoRA\n",
    "no_lora_finetune_model = copy.deepcopy(base_model)\n",
    "\n",
    "trainer = L.Trainer(max_epochs=3)\n",
    "\n",
    "start_time = pendulum.now()\n",
    "trainer.fit(no_lora_finetune_model, emnist_train_loader, emnist_val_loader)\n",
    "training_time_no_lora = pendulum.now().diff(start_time).in_seconds()\n",
    "print(f\"Training time without LoRA: {training_time_no_lora:.2f} seconds\")\n",
    "\n",
    "### Evaluate the finetuned model without LoRA\n",
    "print(\"MNIST\")\n",
    "accuracy_no_lora_mnist = trainer.validate(model=no_lora_finetune_model, dataloaders=mnist_test_loader)\n",
    "print(\"EMNIST\")\n",
    "accuracy_no_lora_emnist = trainer.validate(model=no_lora_finetune_model, dataloaders=emnist_test_loader)"
   ]
  },
  {
   "cell_type": "markdown",
   "metadata": {},
   "source": [
    "### Compare Finetuning with and without LoRA"
   ]
  },
  {
   "cell_type": "code",
   "execution_count": 14,
   "metadata": {},
   "outputs": [
    {
     "name": "stdout",
     "output_type": "stream",
     "text": [
      "Training time with LoRA: 55.00 seconds\n",
      "Training time without LoRA: 53.00 seconds\n",
      "\n",
      "Accuracy with LoRA on MNIST: 0.13\n",
      "Accuracy with LoRA on EMNIST: 0.25\n",
      "Accuracy without LoRA on MNIST: 0.08\n",
      "Accuracy without LoRA on EMNIST: 0.32\n"
     ]
    }
   ],
   "source": [
    "# Training time\n",
    "print(f\"Training time with LoRA: {training_time_lora:.2f} seconds\")\n",
    "print(f\"Training time without LoRA: {training_time_no_lora:.2f} seconds\")\n",
    "print()\n",
    "\n",
    "# Accuracy on both datasets\n",
    "print(f\"Accuracy with LoRA on MNIST: {accuracy_lora_mnist[0]['val_acc']:.2f}\")\n",
    "print(f\"Accuracy with LoRA on EMNIST: {accuracy_lora_emnist[0]['val_acc']:.2f}\")\n",
    "print(f\"Accuracy without LoRA on MNIST: {accuracy_no_lora_mnist[0]['val_acc']:.2f}\")\n",
    "print(f\"Accuracy without LoRA on EMNIST: {accuracy_no_lora_emnist[0]['val_acc']:.2f}\")"
   ]
  }
 ],
 "metadata": {
  "kernelspec": {
   "display_name": ".venv",
   "language": "python",
   "name": "python3"
  },
  "language_info": {
   "codemirror_mode": {
    "name": "ipython",
    "version": 3
   },
   "file_extension": ".py",
   "mimetype": "text/x-python",
   "name": "python",
   "nbconvert_exporter": "python",
   "pygments_lexer": "ipython3",
   "version": "3.12.7"
  }
 },
 "nbformat": 4,
 "nbformat_minor": 2
}
