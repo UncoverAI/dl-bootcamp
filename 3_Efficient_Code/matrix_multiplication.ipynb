{
 "cells": [
  {
   "cell_type": "markdown",
   "metadata": {},
   "source": [
    "## Matrix Multiplication Performance comparison\n",
    "\n",
    "This notebook compares the performance of plain python, numpy and pytorch when performing matrix multiplication."
   ]
  },
  {
   "cell_type": "markdown",
   "metadata": {},
   "source": [
    "#### Defining utility functions"
   ]
  },
  {
   "cell_type": "code",
   "execution_count": 1,
   "metadata": {},
   "outputs": [],
   "source": [
    "import time\n",
    "import random\n",
    "\n",
    "\n",
    "def measure_runtime(func):\n",
    "    def wrapper(*args, **kwargs):\n",
    "        start_time = time.time()\n",
    "        result = func(*args, **kwargs)\n",
    "        end_time = time.time()\n",
    "        runtime = end_time-start_time\n",
    "        return result, runtime\n",
    "    return wrapper\n",
    "\n",
    "MATRIX_DIM = 500\n",
    "MAX_N = 100"
   ]
  },
  {
   "cell_type": "markdown",
   "metadata": {},
   "source": [
    "#### Plain Python"
   ]
  },
  {
   "cell_type": "code",
   "execution_count": 3,
   "metadata": {},
   "outputs": [
    {
     "data": {
      "text/plain": [
       "7.095006942749023"
      ]
     },
     "execution_count": 3,
     "metadata": {},
     "output_type": "execute_result"
    }
   ],
   "source": [
    "def generate_matrix():\n",
    "    return [[random.randint(0, MAX_N) for _ in range(MATRIX_DIM)] for _ in range(MATRIX_DIM)]\n",
    "\n",
    "\n",
    "@measure_runtime\n",
    "def matrix_multiply_plain_python(A, B):\n",
    "    n, m = len(A), len(B[0])\n",
    "    p = len(B)\n",
    "    result = [[0] * m for _ in range(n)]\n",
    "    \n",
    "    for i in range(n):\n",
    "        for j in range(m):\n",
    "            for k in range(p):\n",
    "                result[i][j] += A[i][k] * B[k][j]\n",
    "                \n",
    "    return result\n",
    "\n",
    "A = generate_matrix()\n",
    "B = generate_matrix()\n",
    "\n",
    "\n",
    "result, runtime_plain = matrix_multiply_plain_python(A, B)\n",
    "runtime_plain"
   ]
  },
  {
   "cell_type": "markdown",
   "metadata": {},
   "source": [
    "#### NumPy"
   ]
  },
  {
   "cell_type": "code",
   "execution_count": 6,
   "metadata": {},
   "outputs": [
    {
     "data": {
      "text/plain": [
       "0.062333106994628906"
      ]
     },
     "execution_count": 6,
     "metadata": {},
     "output_type": "execute_result"
    }
   ],
   "source": [
    "import numpy as np\n",
    "\n",
    "A = np.random.randint(0, MAX_N, size=(MATRIX_DIM, MATRIX_DIM))\n",
    "B = np.random.randint(0, MAX_N, size=(MATRIX_DIM, MATRIX_DIM))\n",
    "\n",
    "\n",
    "@measure_runtime\n",
    "def matrix_multiply_numpy():\n",
    "    return np.dot(A, B)\n",
    "\n",
    "result, runtime_numpy = matrix_multiply_numpy()\n",
    "runtime_numpy"
   ]
  },
  {
   "cell_type": "markdown",
   "metadata": {},
   "source": [
    "#### PyTorch"
   ]
  },
  {
   "cell_type": "code",
   "execution_count": 5,
   "metadata": {},
   "outputs": [
    {
     "data": {
      "text/plain": [
       "0.0020856857299804688"
      ]
     },
     "execution_count": 5,
     "metadata": {},
     "output_type": "execute_result"
    }
   ],
   "source": [
    "import torch\n",
    "\n",
    "A = torch.randint(0, MAX_N, (MATRIX_DIM, MATRIX_DIM), dtype=torch.float32)\n",
    "B = torch.randint(0, MAX_N, (MATRIX_DIM, MATRIX_DIM), dtype=torch.float32)\n",
    "\n",
    "\n",
    "@measure_runtime\n",
    "def matrix_multiply_pytorch():\n",
    "    return torch.mm(A, B)\n",
    "\n",
    "\n",
    "result, runtime_pytorch = matrix_multiply_pytorch()\n",
    "runtime_pytorch"
   ]
  },
  {
   "cell_type": "markdown",
   "metadata": {},
   "source": [
    "#### Comparison"
   ]
  },
  {
   "cell_type": "code",
   "execution_count": 7,
   "metadata": {},
   "outputs": [
    {
     "data": {
      "image/png": "[encoded data removed]",
      "text/plain": [
       "<Figure size 640x480 with 1 Axes>"
      ]
     },
     "metadata": {},
     "output_type": "display_data"
    }
   ],
   "source": [
    "import matplotlib.pyplot as plt\n",
    "\n",
    "categories = ['Plain Python', 'NumPy', 'PyTorch']\n",
    "values = [runtime_plain, runtime_numpy, runtime_pytorch]\n",
    "\n",
    "plt.bar(categories, values)\n",
    "\n",
    "plt.show()"
   ]
  }
 ],
 "metadata": {
  "kernelspec": {
   "display_name": "dlbootcamp",
   "language": "python",
   "name": "python3"
  },
  "language_info": {
   "codemirror_mode": {
    "name": "ipython",
    "version": 3
   },
   "file_extension": ".py",
   "mimetype": "text/x-python",
   "name": "python",
   "nbconvert_exporter": "python",
   "pygments_lexer": "ipython3",
   "version": "3.12.7"
  }
 },
 "nbformat": 4,
 "nbformat_minor": 2
}
