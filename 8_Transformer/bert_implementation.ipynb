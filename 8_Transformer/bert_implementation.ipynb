{
 "cells": [
  {
   "cell_type": "markdown",
   "metadata": {},
   "source": [
    "# BERT for Sentiment Classification\n",
    "\n",
    "In this notebook, we perform sentiment classification using a BERT model and the `sentiment_classification` dataset.\n",
    "\n",
    "### Prerequisites:\n",
    "1. Download the `sentiment_classification` dataset from [Link].\n",
    "2. Save the dataset in the following directory structure: 8_Transformer/sentiment_classification/\n"
   ]
  },
  {
   "cell_type": "code",
   "execution_count": null,
   "metadata": {
    "vscode": {
     "languageId": "plaintext"
    }
   },
   "outputs": [],
   "source": [
    "from transformers import BertTokenizer, BertForSequenceClassification\n",
    "import torch\n",
    "import pandas as pd\n",
    "\n",
    "# Load pre-trained BERT tokenizer and model\n",
    "model_name = (\n",
    "    \"nlptown/bert-base-multilingual-uncased-sentiment\"  # A sentiment analysis model\n",
    ")\n",
    "tokenizer = BertTokenizer.from_pretrained(model_name)\n",
    "model = BertForSequenceClassification.from_pretrained(model_name)\n",
    "\n",
    "data = pd.read_csv(\"sentiment_classification/data/test.csv\")\n",
    "texts = data[\"text\"].tolist()\n",
    "labels = data[\"sentiment\"].tolist()\n",
    "\n",
    "# Tokenize and encode the input texts\n",
    "inputs = tokenizer(\n",
    "    texts, padding=True, truncation=True, return_tensors=\"pt\", max_length=128\n",
    ")\n",
    "\n",
    "# Perform predictions\n",
    "model.eval()  # Set the model to evaluation mode\n",
    "with torch.no_grad():\n",
    "    outputs = model(**inputs)\n",
    "    logits = outputs.logits\n",
    "\n",
    "# Get predicted labels\n",
    "predictions = torch.argmax(logits, dim=-1)\n",
    "\n",
    "correct_predictions = 0\n",
    "n_data_entries = len(texts)\n",
    "\n",
    "# Print the predictions\n",
    "for prediction, label in zip(predictions, labels):\n",
    "    sentiment = \"\"\n",
    "    if prediction.item() < 2:\n",
    "        sentiment = \"negative\"\n",
    "    elif prediction.item() > 4:\n",
    "        sentiment = \"positive\"\n",
    "    else:\n",
    "        sentiment = \"neutral\"\n",
    "\n",
    "    if sentiment == label:\n",
    "        correct_predictions += 1\n",
    "\n",
    "print(f\"accuracy: {correct_predictions/n_data_entries*100} %\")\n"
   ]
  }
 ],
 "metadata": {
  "language_info": {
   "name": "python"
  }
 },
 "nbformat": 4,
 "nbformat_minor": 2
}
